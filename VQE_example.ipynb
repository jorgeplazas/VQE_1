{
 "cells": [
  {
   "cell_type": "code",
   "execution_count": 1,
   "id": "ada83406-b4bc-4a7a-8920-36fc8544df66",
   "metadata": {
    "jupyter": {
     "source_hidden": true
    },
    "tags": []
   },
   "outputs": [],
   "source": [
    "# Importing standard Qiskit libraries\n",
    "from qiskit import QuantumCircuit, transpile\n",
    "from qiskit.tools.jupyter import *\n",
    "from qiskit.visualization import *\n",
    "from ibm_quantum_widgets import *\n",
    "\n",
    "# qiskit-ibmq-provider has been deprecated.\n",
    "# Please see the Migration Guides in https://ibm.biz/provider_migration_guide for more detail.\n",
    "from qiskit_ibm_runtime import QiskitRuntimeService, Sampler, Estimator, Session, Options\n",
    "\n",
    "# Loading your IBM Quantum account(s)\n",
    "service = QiskitRuntimeService(channel=\"ibm_quantum\")\n",
    "\n",
    "# Invoke a primitive. For more details see https://qiskit.org/documentation/partners/qiskit_ibm_runtime/tutorials.html\n",
    "# result = Sampler(\"ibmq_qasm_simulator\").run(circuits).result()"
   ]
  },
  {
   "cell_type": "markdown",
   "id": "ba548291-8e0a-434a-b744-bd7078a365c9",
   "metadata": {},
   "source": [
    "# Variational Quantum Eigensolver Algorithm \n",
    "\n",
    "The Variational Quantum Eigensolver (VQE) is a *hybrid algorithm* that can be used to approximate the ground state energy of given physical system.\n",
    "\n",
    "The problem is specified by a Hamiltonian\n",
    "$$\n",
    "\\hat{\\mathcal{H}}\n",
    "$$\n",
    "expressed as a Pauli String.\n",
    "\n",
    "\n",
    "If $\\lambda_0$ is the smallest eigenvalue of $\\hat{\\mathcal{H}}$ then for any state $\\psi$ of the system the corresponding expectation value satisfies \n",
    "$$\n",
    "\\langle \\, \\psi | \\, \\hat{\\mathcal{H}} | \\psi \\rangle \\geq \\lambda_0\n",
    "$$\n",
    "\n",
    "Given a parametrized ansatz for the ground state eigenstate of the form \n",
    "\n",
    "$$ \n",
    "| \\psi(\\theta) \\rangle = U(\\theta) | \\rho \\rangle\n",
    "$$\n",
    "\n",
    "we can use the `Estimator` primitive from Qiskit runtime to compute the cost function \n",
    "$$\n",
    "C(\\theta) = \\langle \\, \\psi(\\theta)| \\, \\hat{\\mathcal{H}} | \\psi(\\theta) \\rangle\n",
    "$$\n",
    "\n",
    "The values obtained in this way can be passed to a classical optimizer to iteratively calculate optimal parameters to minimize $C(\\theta)$ thus approximating $\\lambda_0$. \n"
   ]
  },
  {
   "cell_type": "code",
   "execution_count": 87,
   "id": "8b2ceacd-dcc1-47a1-b08f-05711298ce6a",
   "metadata": {
    "tags": []
   },
   "outputs": [],
   "source": [
    "# Imports\n",
    "from qiskit import QuantumCircuit\n",
    "from qiskit.quantum_info import SparsePauliOp\n",
    "from qiskit.circuit.library import TwoLocal\n",
    "import numpy as np"
   ]
  },
  {
   "cell_type": "markdown",
   "id": "5598a3f0-faf2-4b61-a55f-30cbf67d70a0",
   "metadata": {},
   "source": [
    "## Problem Specification \n",
    "\n",
    "For this example we will use the molecular Hamiltonian of the Hidrogen $\\mathrm{H}_2$ molecule. Its expression in terms of Pauli Matrices is taken from the 2017 article \"Hardware-efficient variational quantum eigensolver for small molecules and quantum magnets\" by Kandala, A., Mezzacapo, A., Temme, K. et al. (Nature)."
   ]
  },
  {
   "cell_type": "code",
   "execution_count": 88,
   "id": "bb31f99d-5246-40d7-a504-2fde5149bd1a",
   "metadata": {
    "tags": []
   },
   "outputs": [],
   "source": [
    "H2_Particle_Hamiltonian = SparsePauliOp.from_list(\n",
    "    [(\"IZ\", 0.397936), (\"ZI\", 0.397936), (\"ZZ\", 0.011280), (\"XX\", 0.180931)]\n",
    ")"
   ]
  },
  {
   "cell_type": "markdown",
   "id": "85f25fa8-8569-4537-906f-cecdab3680fd",
   "metadata": {
    "tags": []
   },
   "source": [
    "## Ansatz"
   ]
  },
  {
   "cell_type": "code",
   "execution_count": 89,
   "id": "3f3e035c-c6b5-4743-85cc-03be8dd6b5f0",
   "metadata": {
    "tags": []
   },
   "outputs": [
    {
     "data": {
      "image/png": "[encoded data removed]",
      "text/plain": [
       "<Figure size 621.739x200.667 with 1 Axes>"
      ]
     },
     "execution_count": 89,
     "metadata": {},
     "output_type": "execute_result"
    }
   ],
   "source": [
    "theta_list = (2 * np.pi * np.random.rand(1, 8)).tolist()\n",
    "\n",
    "\n",
    "reference_circuit = QuantumCircuit(2)\n",
    "reference_circuit.x(0)\n",
    "\n",
    "variational_form = TwoLocal(\n",
    "    2,\n",
    "    rotation_blocks=[\"rz\", \"ry\"],\n",
    "    entanglement_blocks=\"cx\",\n",
    "    entanglement=\"linear\",\n",
    "    reps=1,\n",
    ")\n",
    "ansatz = reference_circuit.compose(variational_form)\n",
    "\n",
    "ansatz.decompose().draw('mpl')"
   ]
  },
  {
   "cell_type": "markdown",
   "id": "452be306-56bb-40d1-a215-69249a43c924",
   "metadata": {},
   "source": [
    "## Cost function via the `estimator` primitive"
   ]
  },
  {
   "cell_type": "code",
   "execution_count": 90,
   "id": "21c448b2-76dc-4ff0-8398-38ddc7d2c4fb",
   "metadata": {
    "tags": []
   },
   "outputs": [],
   "source": [
    "def cost_func_vqe(params, ansatz, hamiltonian, estimator):\n",
    "    \"\"\"Return estimate of energy from estimator\n",
    "\n",
    "    Parameters:\n",
    "        params (ndarray): Array of ansatz parameters\n",
    "        ansatz (QuantumCircuit): Parameterized ansatz circuit\n",
    "        hamiltonian (SparsePauliOp): Operator representation of Hamiltonian\n",
    "        estimator (Estimator): Estimator primitive instance\n",
    "\n",
    "    Returns:\n",
    "        float: Energy estimate\n",
    "    \"\"\"\n",
    "    cost = estimator.run(ansatz, hamiltonian, parameter_values=params).result().values[0]\n",
    "    return cost"
   ]
  },
  {
   "cell_type": "code",
   "execution_count": 91,
   "id": "0a594ee0-8074-4d2f-aca5-25718d7d7127",
   "metadata": {
    "tags": []
   },
   "outputs": [],
   "source": [
    "from qiskit_ibm_runtime import QiskitRuntimeService, Estimator, Session\n",
    "\n",
    "service = QiskitRuntimeService(\n",
    "    channel=\"ibm_quantum\"\n",
    ")\n",
    "\n",
    "backend = service.backend(\"ibmq_qasm_simulator\")\n",
    "session = Session(backend=backend)\n",
    "\n",
    "# Use estimator to get the expected values corresponding to each ansatz\n",
    "estimator = Estimator(session=session)"
   ]
  },
  {
   "cell_type": "markdown",
   "id": "1079013d-971c-49a6-b551-85b3559b2b0c",
   "metadata": {},
   "source": [
    "## Classical optimizer rutine "
   ]
  },
  {
   "cell_type": "code",
   "execution_count": 92,
   "id": "5ed68863-d196-4fe7-8b98-d5bab4c47be2",
   "metadata": {
    "tags": []
   },
   "outputs": [],
   "source": [
    "from scipy.optimize import minimize"
   ]
  },
  {
   "cell_type": "code",
   "execution_count": 93,
   "id": "8184e5ee-38e9-4ed3-a43e-4c98deae0590",
   "metadata": {
    "tags": []
   },
   "outputs": [],
   "source": [
    "# Initialize parameters\n",
    "x0 = np.ones(8)"
   ]
  },
  {
   "cell_type": "code",
   "execution_count": 94,
   "id": "80f2be7f-8efd-4b46-8f31-aac8159af8a5",
   "metadata": {
    "tags": []
   },
   "outputs": [
    {
     "data": {
      "text/plain": [
       "     fun: -0.7775614965000001\n",
       "   maxcv: 0.0\n",
       " message: 'Optimization terminated successfully.'\n",
       "    nfev: 74\n",
       "  status: 1\n",
       " success: True\n",
       "       x: array([ 0.84487165,  0.96885279, -0.03196566,  2.29365969,  3.4223037 ,\n",
       "        0.07085077, -0.2276787 ,  2.37523488])"
      ]
     },
     "execution_count": 94,
     "metadata": {},
     "output_type": "execute_result"
    }
   ],
   "source": [
    "result = minimize(cost_func_vqe, x0, args=(ansatz, H2_Particle_Hamiltonian, estimator), method=\"COBYLA\")\n",
    "\n",
    "result"
   ]
  },
  {
   "cell_type": "markdown",
   "id": "73161c75-0670-4074-a5bd-fbb0d2b6d516",
   "metadata": {},
   "source": [
    "## Comparison with `quiskit-nature` + `qiskit-VQE` implementation"
   ]
  },
  {
   "cell_type": "code",
   "execution_count": 2,
   "id": "8c2da11c-ad6a-4917-ad0b-c41067a412b7",
   "metadata": {
    "collapsed": true,
    "jupyter": {
     "outputs_hidden": true
    },
    "tags": []
   },
   "outputs": [
    {
     "name": "stdout",
     "output_type": "stream",
     "text": [
      "Requirement already satisfied: qiskit-nature in /opt/conda/lib/python3.10/site-packages (0.6.2)\n",
      "Requirement already satisfied: qiskit-terra>=0.24 in /opt/conda/lib/python3.10/site-packages (from qiskit-nature) (0.25.1)\n",
      "Requirement already satisfied: h5py in /opt/conda/lib/python3.10/site-packages (from qiskit-nature) (3.7.0)\n",
      "Requirement already satisfied: rustworkx in /opt/conda/lib/python3.10/site-packages (from qiskit-nature) (0.13.0)\n",
      "Requirement already satisfied: numpy>=1.17 in /opt/conda/lib/python3.10/site-packages (from qiskit-nature) (1.23.5)\n",
      "Requirement already satisfied: typing-extensions in /opt/conda/lib/python3.10/site-packages (from qiskit-nature) (4.5.0)\n",
      "Requirement already satisfied: psutil>=5 in /opt/conda/lib/python3.10/site-packages (from qiskit-nature) (5.9.4)\n",
      "Requirement already satisfied: scipy>=1.4 in /opt/conda/lib/python3.10/site-packages (from qiskit-nature) (1.9.3)\n",
      "Requirement already satisfied: scikit-learn>=0.20.0 in /opt/conda/lib/python3.10/site-packages (from qiskit-nature) (1.2.2)\n",
      "Requirement already satisfied: setuptools>=40.1.0 in /opt/conda/lib/python3.10/site-packages (from qiskit-nature) (67.7.2)\n",
      "Requirement already satisfied: stevedore>=3.0.0 in /opt/conda/lib/python3.10/site-packages (from qiskit-terra>=0.24->qiskit-nature) (4.1.1)\n",
      "Requirement already satisfied: sympy>=1.3 in /opt/conda/lib/python3.10/site-packages (from qiskit-terra>=0.24->qiskit-nature) (1.11.1)\n",
      "Requirement already satisfied: dill>=0.3 in /opt/conda/lib/python3.10/site-packages (from qiskit-terra>=0.24->qiskit-nature) (0.3.7)\n",
      "Requirement already satisfied: python-dateutil>=2.8.0 in /opt/conda/lib/python3.10/site-packages (from qiskit-terra>=0.24->qiskit-nature) (2.8.2)\n",
      "Requirement already satisfied: ply>=3.10 in /opt/conda/lib/python3.10/site-packages (from qiskit-terra>=0.24->qiskit-nature) (3.11)\n",
      "Requirement already satisfied: symengine<0.10,>=0.9 in /opt/conda/lib/python3.10/site-packages (from qiskit-terra>=0.24->qiskit-nature) (0.9.2)\n",
      "Requirement already satisfied: threadpoolctl>=2.0.0 in /opt/conda/lib/python3.10/site-packages (from scikit-learn>=0.20.0->qiskit-nature) (3.1.0)\n",
      "Requirement already satisfied: joblib>=1.1.1 in /opt/conda/lib/python3.10/site-packages (from scikit-learn>=0.20.0->qiskit-nature) (1.2.0)\n",
      "Requirement already satisfied: six>=1.5 in /opt/conda/lib/python3.10/site-packages (from python-dateutil>=2.8.0->qiskit-terra>=0.24->qiskit-nature) (1.16.0)\n",
      "Requirement already satisfied: pbr!=2.1.0,>=2.0.0 in /opt/conda/lib/python3.10/site-packages (from stevedore>=3.0.0->qiskit-terra>=0.24->qiskit-nature) (5.11.1)\n",
      "Requirement already satisfied: mpmath>=0.19 in /opt/conda/lib/python3.10/site-packages (from sympy>=1.3->qiskit-terra>=0.24->qiskit-nature) (1.3.0)\n",
      "\n",
      "\u001b[1m[\u001b[0m\u001b[34;49mnotice\u001b[0m\u001b[1;39;49m]\u001b[0m\u001b[39;49m A new release of pip available: \u001b[0m\u001b[31;49m23.1.1\u001b[0m\u001b[39;49m -> \u001b[0m\u001b[32;49m23.2.1\u001b[0m\n",
      "\u001b[1m[\u001b[0m\u001b[34;49mnotice\u001b[0m\u001b[1;39;49m]\u001b[0m\u001b[39;49m To update, run: \u001b[0m\u001b[32;49mpip install --upgrade pip\u001b[0m\n"
     ]
    }
   ],
   "source": [
    "! pip install qiskit-nature"
   ]
  },
  {
   "cell_type": "code",
   "execution_count": 101,
   "id": "3b8f075f-da37-4a94-a542-9aea7334a8af",
   "metadata": {
    "tags": []
   },
   "outputs": [],
   "source": [
    "from qiskit_nature.units import DistanceUnit\n",
    "from qiskit_nature.second_q.drivers import PySCFDriver\n",
    "from qiskit_nature.second_q.mappers import ParityMapper\n",
    "from qiskit.algorithms.optimizers import L_BFGS_B\n",
    "from qiskit_nature.second_q.circuit.library import HartreeFock, UCCSD\n",
    "from qiskit.algorithms.minimum_eigensolvers import VQE\n",
    "from qiskit_nature.second_q.algorithms import GroundStateEigensolver"
   ]
  },
  {
   "cell_type": "code",
   "execution_count": 96,
   "id": "50c24560-5f92-4d81-a891-2f7f31350a10",
   "metadata": {
    "tags": []
   },
   "outputs": [],
   "source": [
    "# Use PySCF, a classical computational chemistry software\n",
    "# package, to compute the one-body and two-body integrals in\n",
    "# electronic-orbital basis, necessary to form the Fermionic operator\n",
    "driver = PySCFDriver(\n",
    "    atom='H .0 .0 .0; H .0 .0 0.735',\n",
    "    unit=DistanceUnit.ANGSTROM,\n",
    "    basis='sto3g',\n",
    ")\n",
    "problem = driver.run()"
   ]
  },
  {
   "cell_type": "code",
   "execution_count": 97,
   "id": "46880260-a398-48ab-9d0d-adab2608a8a8",
   "metadata": {
    "tags": []
   },
   "outputs": [],
   "source": [
    "mapper = ParityMapper(num_particles=problem.num_particles)"
   ]
  },
  {
   "cell_type": "code",
   "execution_count": 98,
   "id": "99896dcb-8f22-448f-ab1d-79e81ff7cc08",
   "metadata": {
    "tags": []
   },
   "outputs": [],
   "source": [
    "optimizer = L_BFGS_B()"
   ]
  },
  {
   "cell_type": "code",
   "execution_count": 10,
   "id": "faec08b6-fcb4-41a6-a693-ee2a555d69d6",
   "metadata": {
    "tags": []
   },
   "outputs": [],
   "source": [
    "estimator = Estimator()"
   ]
  },
  {
   "cell_type": "code",
   "execution_count": 99,
   "id": "799b82d3-152c-40c4-87e3-395217751b72",
   "metadata": {
    "tags": []
   },
   "outputs": [],
   "source": [
    "ansatz = UCCSD(\n",
    "    problem.num_spatial_orbitals,\n",
    "    problem.num_particles,\n",
    "    mapper,\n",
    "    initial_state=HartreeFock(\n",
    "        problem.num_spatial_orbitals,\n",
    "        problem.num_particles,\n",
    "        mapper,\n",
    "    ),\n",
    ")"
   ]
  },
  {
   "cell_type": "code",
   "execution_count": 102,
   "id": "e1b627aa-802b-4996-a30f-cd1204ea127b",
   "metadata": {
    "tags": []
   },
   "outputs": [],
   "source": [
    "vqe = VQE(estimator, ansatz, optimizer)\n",
    "# ensure that the optimizer starts in the all-zero state which corresponds to\n",
    "# the Hartree-Fock starting point\n",
    "vqe.initial_point = [0] * ansatz.num_parameters"
   ]
  },
  {
   "cell_type": "code",
   "execution_count": 103,
   "id": "359b24a0-43cf-493e-b688-9216bd29537e",
   "metadata": {
    "tags": []
   },
   "outputs": [],
   "source": [
    "algorithm = GroundStateEigensolver(mapper, vqe)"
   ]
  },
  {
   "cell_type": "code",
   "execution_count": null,
   "id": "15db22d7-4cd5-4a1d-9a5c-cf16a0f45300",
   "metadata": {
    "tags": []
   },
   "outputs": [],
   "source": [
    "electronic_structure_result = algorithm.solve(problem)\n",
    "electronic_structure_result.formatting_precision = 6\n",
    "print(electronic_structure_result)"
   ]
  },
  {
   "cell_type": "code",
   "execution_count": null,
   "id": "9f010f31-0025-4175-8f21-09942faaf5be",
   "metadata": {},
   "outputs": [],
   "source": []
  }
 ],
 "metadata": {
  "kernelspec": {
   "display_name": "Python 3 (ipykernel)",
   "language": "python",
   "name": "python3"
  },
  "language_info": {
   "codemirror_mode": {
    "name": "ipython",
    "version": 3
   },
   "file_extension": ".py",
   "mimetype": "text/x-python",
   "name": "python",
   "nbconvert_exporter": "python",
   "pygments_lexer": "ipython3",
   "version": "3.10.8"
  },
  "widgets": {
   "application/vnd.jupyter.widget-state+json": {
    "state": {},
    "version_major": 2,
    "version_minor": 0
   }
  }
 },
 "nbformat": 4,
 "nbformat_minor": 5
}
